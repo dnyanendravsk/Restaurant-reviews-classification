{
 "cells": [
  {
   "cell_type": "markdown",
   "id": "be183d47",
   "metadata": {},
   "source": [
    "# Import Requried Library's and read data"
   ]
  },
  {
   "cell_type": "code",
   "execution_count": 1,
   "id": "ccb44476",
   "metadata": {},
   "outputs": [],
   "source": [
    "from warnings import filterwarnings\n",
    "filterwarnings(\"ignore\")\n",
    "import pandas as pd"
   ]
  },
  {
   "cell_type": "code",
   "execution_count": 2,
   "id": "1ad514dd",
   "metadata": {},
   "outputs": [
    {
     "data": {
      "text/html": [
       "<div>\n",
       "<style scoped>\n",
       "    .dataframe tbody tr th:only-of-type {\n",
       "        vertical-align: middle;\n",
       "    }\n",
       "\n",
       "    .dataframe tbody tr th {\n",
       "        vertical-align: top;\n",
       "    }\n",
       "\n",
       "    .dataframe thead th {\n",
       "        text-align: right;\n",
       "    }\n",
       "</style>\n",
       "<table border=\"1\" class=\"dataframe\">\n",
       "  <thead>\n",
       "    <tr style=\"text-align: right;\">\n",
       "      <th></th>\n",
       "      <th>Review</th>\n",
       "      <th>Liked</th>\n",
       "    </tr>\n",
       "  </thead>\n",
       "  <tbody>\n",
       "    <tr>\n",
       "      <th>0</th>\n",
       "      <td>Wow... Loved this place.</td>\n",
       "      <td>1</td>\n",
       "    </tr>\n",
       "    <tr>\n",
       "      <th>1</th>\n",
       "      <td>Crust is not good.</td>\n",
       "      <td>0</td>\n",
       "    </tr>\n",
       "    <tr>\n",
       "      <th>2</th>\n",
       "      <td>Not tasty and the texture was just nasty.</td>\n",
       "      <td>0</td>\n",
       "    </tr>\n",
       "    <tr>\n",
       "      <th>3</th>\n",
       "      <td>Stopped by during the late May bank holiday of...</td>\n",
       "      <td>1</td>\n",
       "    </tr>\n",
       "    <tr>\n",
       "      <th>4</th>\n",
       "      <td>The selection on the menu was great and so wer...</td>\n",
       "      <td>1</td>\n",
       "    </tr>\n",
       "  </tbody>\n",
       "</table>\n",
       "</div>"
      ],
      "text/plain": [
       "                                              Review  Liked\n",
       "0                           Wow... Loved this place.      1\n",
       "1                                 Crust is not good.      0\n",
       "2          Not tasty and the texture was just nasty.      0\n",
       "3  Stopped by during the late May bank holiday of...      1\n",
       "4  The selection on the menu was great and so wer...      1"
      ]
     },
     "execution_count": 2,
     "metadata": {},
     "output_type": "execute_result"
    }
   ],
   "source": [
    "A = pd.read_csv(\"E:/ETLHIVE/Restaurant_Reviews.tsv\",sep='\\t')\n",
    "A.head()"
   ]
  },
  {
   "cell_type": "code",
   "execution_count": 3,
   "id": "ac7ce97a",
   "metadata": {},
   "outputs": [
    {
     "name": "stdout",
     "output_type": "stream",
     "text": [
      "<class 'pandas.core.frame.DataFrame'>\n",
      "RangeIndex: 1000 entries, 0 to 999\n",
      "Data columns (total 2 columns):\n",
      " #   Column  Non-Null Count  Dtype \n",
      "---  ------  --------------  ----- \n",
      " 0   Review  1000 non-null   object\n",
      " 1   Liked   1000 non-null   int64 \n",
      "dtypes: int64(1), object(1)\n",
      "memory usage: 15.8+ KB\n"
     ]
    }
   ],
   "source": [
    "A.info()"
   ]
  },
  {
   "cell_type": "code",
   "execution_count": 4,
   "id": "09fae2c0",
   "metadata": {},
   "outputs": [
    {
     "data": {
      "text/plain": [
       "Review    0\n",
       "Liked     0\n",
       "dtype: int64"
      ]
     },
     "execution_count": 4,
     "metadata": {},
     "output_type": "execute_result"
    }
   ],
   "source": [
    "A.isna().sum() # check the missing value in data set"
   ]
  },
  {
   "cell_type": "markdown",
   "id": "179af64b",
   "metadata": {},
   "source": [
    "# Text Preprocessing Using Count Vectorizer for converting words into vectors"
   ]
  },
  {
   "cell_type": "code",
   "execution_count": 5,
   "id": "f068af05",
   "metadata": {},
   "outputs": [],
   "source": [
    "from re import sub # use sub for removing special character from text like . , ! etc\n",
    "Q = []\n",
    "for i in A.Review:\n",
    "    Q.append(sub(\"[^a-zA-Z0-9 ]\",\"\",i.upper()))"
   ]
  },
  {
   "cell_type": "code",
   "execution_count": 6,
   "id": "786b785e",
   "metadata": {},
   "outputs": [
    {
     "data": {
      "text/plain": [
       "'CRUST IS NOT GOOD'"
      ]
     },
     "execution_count": 6,
     "metadata": {},
     "output_type": "execute_result"
    }
   ],
   "source": [
    "Q[1]"
   ]
  },
  {
   "cell_type": "code",
   "execution_count": 7,
   "id": "79c4b21c",
   "metadata": {},
   "outputs": [],
   "source": [
    "from sklearn.feature_extraction.text import CountVectorizer\n",
    "cv = CountVectorizer()\n",
    "words_vect = cv.fit_transform(Q).toarray()"
   ]
  },
  {
   "cell_type": "markdown",
   "id": "38388462",
   "metadata": {},
   "source": [
    "# Define X and Y"
   ]
  },
  {
   "cell_type": "code",
   "execution_count": 8,
   "id": "e4fb8d3b",
   "metadata": {},
   "outputs": [],
   "source": [
    "X = words_vect\n",
    "Y = A.Liked"
   ]
  },
  {
   "cell_type": "markdown",
   "id": "d35ee37a",
   "metadata": {},
   "source": [
    "# Divide Data into Training and Testing Set"
   ]
  },
  {
   "cell_type": "code",
   "execution_count": 9,
   "id": "2a0ea48b",
   "metadata": {},
   "outputs": [],
   "source": [
    "from sklearn.model_selection import train_test_split\n",
    "xtrain,xtest,ytrain,ytest = train_test_split(X,Y,test_size=0.3,random_state=101)"
   ]
  },
  {
   "cell_type": "code",
   "execution_count": 10,
   "id": "3bf756ac",
   "metadata": {},
   "outputs": [
    {
     "data": {
      "text/plain": [
       "(700, 2067)"
      ]
     },
     "execution_count": 10,
     "metadata": {},
     "output_type": "execute_result"
    }
   ],
   "source": [
    "xtrain.shape"
   ]
  },
  {
   "cell_type": "markdown",
   "id": "754db8c3",
   "metadata": {},
   "source": [
    "# Create Logistic regression model "
   ]
  },
  {
   "cell_type": "code",
   "execution_count": 11,
   "id": "387ebfd4",
   "metadata": {},
   "outputs": [],
   "source": [
    "from sklearn.linear_model import LogisticRegression\n",
    "lr = LogisticRegression()\n",
    "model = lr.fit(xtrain,ytrain)\n",
    "pred_tr = model.predict(xtrain)\n",
    "pred_ts = model.predict(xtest)"
   ]
  },
  {
   "cell_type": "markdown",
   "id": "c63f7897",
   "metadata": {},
   "source": [
    "# find Accuracy of model"
   ]
  },
  {
   "cell_type": "code",
   "execution_count": 12,
   "id": "35e8d6ac",
   "metadata": {},
   "outputs": [],
   "source": [
    "from sklearn.metrics import accuracy_score\n",
    "tr_acc = accuracy_score(ytrain,pred_tr)\n",
    "ts_acc = accuracy_score(ytest,pred_ts)"
   ]
  },
  {
   "cell_type": "code",
   "execution_count": 13,
   "id": "54fb72bf",
   "metadata": {},
   "outputs": [
    {
     "data": {
      "text/plain": [
       "0.9871428571428571"
      ]
     },
     "execution_count": 13,
     "metadata": {},
     "output_type": "execute_result"
    }
   ],
   "source": [
    "tr_acc"
   ]
  },
  {
   "cell_type": "code",
   "execution_count": 14,
   "id": "d7642860",
   "metadata": {},
   "outputs": [
    {
     "data": {
      "text/plain": [
       "0.82"
      ]
     },
     "execution_count": 14,
     "metadata": {},
     "output_type": "execute_result"
    }
   ],
   "source": [
    "ts_acc"
   ]
  },
  {
   "cell_type": "markdown",
   "id": "b2ccbc40",
   "metadata": {},
   "source": [
    "# live predictor"
   ]
  },
  {
   "cell_type": "code",
   "execution_count": 15,
   "id": "625e853c",
   "metadata": {},
   "outputs": [],
   "source": [
    "# just type in your message and run\n",
    "your_review = 'food is good'\n",
    "your_review = cv.transform([your_review.upper()])\n",
    "prediction = model.predict(your_review)"
   ]
  },
  {
   "cell_type": "code",
   "execution_count": 16,
   "id": "32c5441d",
   "metadata": {},
   "outputs": [
    {
     "data": {
      "text/plain": [
       "1"
      ]
     },
     "execution_count": 16,
     "metadata": {},
     "output_type": "execute_result"
    }
   ],
   "source": [
    "prediction[0]"
   ]
  },
  {
   "cell_type": "markdown",
   "id": "4efa487d",
   "metadata": {},
   "source": [
    "# Create naive bayes classification Model"
   ]
  },
  {
   "cell_type": "code",
   "execution_count": 17,
   "id": "3b035306",
   "metadata": {},
   "outputs": [],
   "source": [
    "from sklearn.naive_bayes import MultinomialNB\n",
    "mnb = MultinomialNB()\n",
    "model1 = mnb.fit(xtrain,ytrain)\n",
    "pred_tr1 = model1.predict(xtrain)\n",
    "pred_ts1 = model1.predict(xtest)"
   ]
  },
  {
   "cell_type": "markdown",
   "id": "ea6cdf80",
   "metadata": {},
   "source": [
    "# find Accuracy of model"
   ]
  },
  {
   "cell_type": "code",
   "execution_count": 18,
   "id": "5fcd28c1",
   "metadata": {},
   "outputs": [],
   "source": [
    "from sklearn.metrics import accuracy_score\n",
    "tr_acc1 = accuracy_score(ytrain,pred_tr1)\n",
    "ts_acc1 = accuracy_score(ytest,pred_ts1)"
   ]
  },
  {
   "cell_type": "code",
   "execution_count": 19,
   "id": "66eb56ee",
   "metadata": {},
   "outputs": [
    {
     "data": {
      "text/plain": [
       "0.9671428571428572"
      ]
     },
     "execution_count": 19,
     "metadata": {},
     "output_type": "execute_result"
    }
   ],
   "source": [
    "tr_acc1"
   ]
  },
  {
   "cell_type": "code",
   "execution_count": 20,
   "id": "ab35e902",
   "metadata": {},
   "outputs": [
    {
     "data": {
      "text/plain": [
       "0.81"
      ]
     },
     "execution_count": 20,
     "metadata": {},
     "output_type": "execute_result"
    }
   ],
   "source": [
    "ts_acc1"
   ]
  },
  {
   "cell_type": "markdown",
   "id": "4f353c43",
   "metadata": {},
   "source": [
    "# live predictor"
   ]
  },
  {
   "cell_type": "code",
   "execution_count": 21,
   "id": "ecb4a149",
   "metadata": {},
   "outputs": [],
   "source": [
    "# just type in your message and run\n",
    "your_review = 'food is not good'\n",
    "your_review = cv.transform([your_review.upper()])\n",
    "prediction = model.predict(your_review)"
   ]
  },
  {
   "cell_type": "code",
   "execution_count": 22,
   "id": "be37a4de",
   "metadata": {},
   "outputs": [
    {
     "data": {
      "text/plain": [
       "0"
      ]
     },
     "execution_count": 22,
     "metadata": {},
     "output_type": "execute_result"
    }
   ],
   "source": [
    "prediction[0]"
   ]
  },
  {
   "cell_type": "markdown",
   "id": "1188e881",
   "metadata": {},
   "source": [
    "# Create ANN model"
   ]
  },
  {
   "cell_type": "code",
   "execution_count": 23,
   "id": "5a45090c",
   "metadata": {},
   "outputs": [],
   "source": [
    "from keras.models import Sequential\n",
    "from keras.layers import Dense,Dropout"
   ]
  },
  {
   "cell_type": "code",
   "execution_count": 24,
   "id": "d567fc8c",
   "metadata": {},
   "outputs": [],
   "source": [
    "nn = Sequential()\n",
    "nn.add(Dense(200,input_dim=2067))\n",
    "nn.add(Dense(200))\n",
    "nn.add(Dropout(0.2))\n",
    "nn.add(Dense(200))\n",
    "nn.add(Dropout(0.2))\n",
    "nn.add(Dense(1,activation=\"sigmoid\"))"
   ]
  },
  {
   "cell_type": "code",
   "execution_count": 25,
   "id": "43da433a",
   "metadata": {},
   "outputs": [
    {
     "name": "stdout",
     "output_type": "stream",
     "text": [
      "Epoch 1/100\n",
      "22/22 [==============================] - 1s 11ms/step - loss: 0.5959 - accuracy: 0.6857\n",
      "Epoch 2/100\n",
      "22/22 [==============================] - 0s 12ms/step - loss: 0.2326 - accuracy: 0.9229\n",
      "Epoch 3/100\n",
      "22/22 [==============================] - 0s 12ms/step - loss: 0.0926 - accuracy: 0.9643\n",
      "Epoch 4/100\n",
      "22/22 [==============================] - 0s 12ms/step - loss: 0.0387 - accuracy: 0.9871\n",
      "Epoch 5/100\n",
      "22/22 [==============================] - 0s 11ms/step - loss: 0.0149 - accuracy: 0.9957\n",
      "Epoch 6/100\n",
      "22/22 [==============================] - 0s 11ms/step - loss: 0.0042 - accuracy: 1.0000\n",
      "Epoch 7/100\n",
      "22/22 [==============================] - 0s 11ms/step - loss: 0.0015 - accuracy: 1.0000\n",
      "Epoch 8/100\n",
      "22/22 [==============================] - 0s 11ms/step - loss: 6.5452e-04 - accuracy: 1.0000\n",
      "Epoch 9/100\n",
      "22/22 [==============================] - 0s 11ms/step - loss: 1.5330e-04 - accuracy: 1.0000\n",
      "Epoch 10/100\n",
      "22/22 [==============================] - 0s 11ms/step - loss: 4.1281e-05 - accuracy: 1.0000\n",
      "Epoch 11/100\n",
      "22/22 [==============================] - 0s 12ms/step - loss: 4.3872e-05 - accuracy: 1.0000\n",
      "Epoch 12/100\n",
      "22/22 [==============================] - 0s 13ms/step - loss: 2.5148e-06 - accuracy: 1.0000\n",
      "Epoch 13/100\n",
      "22/22 [==============================] - 0s 11ms/step - loss: 3.2560e-06 - accuracy: 1.0000\n",
      "Epoch 14/100\n",
      "22/22 [==============================] - 0s 14ms/step - loss: 1.0714e-06 - accuracy: 1.0000\n",
      "Epoch 15/100\n",
      "22/22 [==============================] - 0s 11ms/step - loss: 2.7564e-05 - accuracy: 1.0000\n",
      "Epoch 16/100\n",
      "22/22 [==============================] - 0s 12ms/step - loss: 8.6506e-05 - accuracy: 1.0000\n",
      "Epoch 17/100\n",
      "22/22 [==============================] - 0s 13ms/step - loss: 3.8966e-08 - accuracy: 1.0000\n",
      "Epoch 18/100\n",
      "22/22 [==============================] - 0s 12ms/step - loss: 3.4707e-08 - accuracy: 1.0000\n",
      "Epoch 19/100\n",
      "22/22 [==============================] - 0s 13ms/step - loss: 1.2714e-08 - accuracy: 1.0000\n",
      "Epoch 20/100\n",
      "22/22 [==============================] - 0s 13ms/step - loss: 1.9751e-08 - accuracy: 1.0000\n",
      "Epoch 21/100\n",
      "22/22 [==============================] - 0s 11ms/step - loss: 2.3776e-09 - accuracy: 1.0000\n",
      "Epoch 22/100\n",
      "22/22 [==============================] - 0s 14ms/step - loss: 4.5782e-09 - accuracy: 1.0000\n",
      "Epoch 23/100\n",
      "22/22 [==============================] - 0s 11ms/step - loss: 3.1441e-09 - accuracy: 1.0000\n",
      "Epoch 24/100\n",
      "22/22 [==============================] - 0s 11ms/step - loss: 2.2169e-09 - accuracy: 1.0000\n",
      "Epoch 25/100\n",
      "22/22 [==============================] - 0s 11ms/step - loss: 4.4998e-09 - accuracy: 1.0000\n",
      "Epoch 26/100\n",
      "22/22 [==============================] - 0s 11ms/step - loss: 1.3544e-09 - accuracy: 1.0000\n",
      "Epoch 27/100\n",
      "22/22 [==============================] - 0s 11ms/step - loss: 3.0736e-09 - accuracy: 1.0000\n",
      "Epoch 28/100\n",
      "22/22 [==============================] - 0s 11ms/step - loss: 2.0292e-09 - accuracy: 1.0000\n",
      "Epoch 29/100\n",
      "22/22 [==============================] - 0s 11ms/step - loss: 9.7080e-10 - accuracy: 1.0000\n",
      "Epoch 30/100\n",
      "22/22 [==============================] - 0s 12ms/step - loss: 8.2866e-10 - accuracy: 1.0000\n",
      "Epoch 31/100\n",
      "22/22 [==============================] - 0s 11ms/step - loss: 7.8390e-10 - accuracy: 1.0000\n",
      "Epoch 32/100\n",
      "22/22 [==============================] - 0s 11ms/step - loss: 5.5005e-09 - accuracy: 1.0000\n",
      "Epoch 33/100\n",
      "22/22 [==============================] - 0s 12ms/step - loss: 7.4010e-08 - accuracy: 1.0000\n",
      "Epoch 34/100\n",
      "22/22 [==============================] - 0s 12ms/step - loss: 7.2314e-10 - accuracy: 1.0000\n",
      "Epoch 35/100\n",
      "22/22 [==============================] - 0s 11ms/step - loss: 7.9185e-10 - accuracy: 1.0000\n",
      "Epoch 36/100\n",
      "22/22 [==============================] - 0s 11ms/step - loss: 9.2946e-10 - accuracy: 1.0000\n",
      "Epoch 37/100\n",
      "22/22 [==============================] - 0s 11ms/step - loss: 1.2101e-09 - accuracy: 1.0000\n",
      "Epoch 38/100\n",
      "22/22 [==============================] - 0s 12ms/step - loss: 3.8712e-10 - accuracy: 1.0000\n",
      "Epoch 39/100\n",
      "22/22 [==============================] - 0s 12ms/step - loss: 3.4072e-10 - accuracy: 1.0000\n",
      "Epoch 40/100\n",
      "22/22 [==============================] - 0s 12ms/step - loss: 3.1289e-10 - accuracy: 1.0000\n",
      "Epoch 41/100\n",
      "22/22 [==============================] - 0s 12ms/step - loss: 5.6668e-10 - accuracy: 1.0000\n",
      "Epoch 42/100\n",
      "22/22 [==============================] - 0s 11ms/step - loss: 8.6507e-10 - accuracy: 1.0000\n",
      "Epoch 43/100\n",
      "22/22 [==============================] - 0s 11ms/step - loss: 3.8736e-10 - accuracy: 1.0000\n",
      "Epoch 44/100\n",
      "22/22 [==============================] - 0s 12ms/step - loss: 3.3583e-10 - accuracy: 1.0000\n",
      "Epoch 45/100\n",
      "22/22 [==============================] - 0s 12ms/step - loss: 6.2518e-10 - accuracy: 1.0000\n",
      "Epoch 46/100\n",
      "22/22 [==============================] - 0s 11ms/step - loss: 3.2974e-10 - accuracy: 1.0000\n",
      "Epoch 47/100\n",
      "22/22 [==============================] - 0s 12ms/step - loss: 3.7797e-10 - accuracy: 1.0000\n",
      "Epoch 48/100\n",
      "22/22 [==============================] - 0s 11ms/step - loss: 7.6772e-10 - accuracy: 1.0000\n",
      "Epoch 49/100\n",
      "22/22 [==============================] - 0s 12ms/step - loss: 2.5561e-10 - accuracy: 1.0000\n",
      "Epoch 50/100\n",
      "22/22 [==============================] - 0s 11ms/step - loss: 3.3114e-10 - accuracy: 1.0000\n",
      "Epoch 51/100\n",
      "22/22 [==============================] - 0s 11ms/step - loss: 4.0951e-10 - accuracy: 1.0000\n",
      "Epoch 52/100\n",
      "22/22 [==============================] - 0s 12ms/step - loss: 2.6809e-10 - accuracy: 1.0000\n",
      "Epoch 53/100\n",
      "22/22 [==============================] - 0s 12ms/step - loss: 4.2859e-10 - accuracy: 1.0000\n",
      "Epoch 54/100\n",
      "22/22 [==============================] - 0s 11ms/step - loss: 2.5011e-10 - accuracy: 1.0000\n",
      "Epoch 55/100\n",
      "22/22 [==============================] - 0s 11ms/step - loss: 7.5213e-10 - accuracy: 1.0000\n",
      "Epoch 56/100\n",
      "22/22 [==============================] - 0s 11ms/step - loss: 1.9039e-10 - accuracy: 1.0000\n",
      "Epoch 57/100\n",
      "22/22 [==============================] - 0s 11ms/step - loss: 2.3371e-10 - accuracy: 1.0000\n",
      "Epoch 58/100\n",
      "22/22 [==============================] - 0s 11ms/step - loss: 1.7988e-10 - accuracy: 1.0000\n",
      "Epoch 59/100\n",
      "22/22 [==============================] - 0s 11ms/step - loss: 2.4541e-10 - accuracy: 1.0000\n",
      "Epoch 60/100\n",
      "22/22 [==============================] - 0s 11ms/step - loss: 4.0464e-10 - accuracy: 1.0000\n",
      "Epoch 61/100\n",
      "22/22 [==============================] - 0s 12ms/step - loss: 4.7083e-10 - accuracy: 1.0000\n",
      "Epoch 62/100\n",
      "22/22 [==============================] - 0s 11ms/step - loss: 2.7181e-10 - accuracy: 1.0000\n",
      "Epoch 63/100\n",
      "22/22 [==============================] - 0s 11ms/step - loss: 2.5961e-10 - accuracy: 1.0000\n",
      "Epoch 64/100\n",
      "22/22 [==============================] - 0s 11ms/step - loss: 2.7486e-10 - accuracy: 1.0000\n",
      "Epoch 65/100\n",
      "22/22 [==============================] - 0s 11ms/step - loss: 3.5290e-10 - accuracy: 1.0000\n",
      "Epoch 66/100\n",
      "22/22 [==============================] - 0s 11ms/step - loss: 2.5727e-10 - accuracy: 1.0000\n",
      "Epoch 67/100\n",
      "22/22 [==============================] - 0s 11ms/step - loss: 3.6178e-10 - accuracy: 1.0000\n",
      "Epoch 68/100\n",
      "22/22 [==============================] - 0s 11ms/step - loss: 2.2545e-10 - accuracy: 1.0000\n",
      "Epoch 69/100\n",
      "22/22 [==============================] - 0s 11ms/step - loss: 6.1095e-10 - accuracy: 1.0000\n",
      "Epoch 70/100\n",
      "22/22 [==============================] - 0s 11ms/step - loss: 6.2473e-10 - accuracy: 1.0000\n",
      "Epoch 71/100\n",
      "22/22 [==============================] - 0s 11ms/step - loss: 3.6118e-10 - accuracy: 1.0000\n",
      "Epoch 72/100\n",
      "22/22 [==============================] - 0s 11ms/step - loss: 2.1683e-10 - accuracy: 1.0000\n",
      "Epoch 73/100\n",
      "22/22 [==============================] - 0s 11ms/step - loss: 1.4714e-10 - accuracy: 1.0000\n",
      "Epoch 74/100\n",
      "22/22 [==============================] - 0s 11ms/step - loss: 5.9232e-09 - accuracy: 1.0000\n",
      "Epoch 75/100\n",
      "22/22 [==============================] - 0s 11ms/step - loss: 1.9449e-10 - accuracy: 1.0000\n",
      "Epoch 76/100\n",
      "22/22 [==============================] - 0s 11ms/step - loss: 4.2013e-10 - accuracy: 1.0000\n",
      "Epoch 77/100\n",
      "22/22 [==============================] - 0s 11ms/step - loss: 3.4804e-10 - accuracy: 1.0000\n",
      "Epoch 78/100\n",
      "22/22 [==============================] - 0s 11ms/step - loss: 2.8272e-10 - accuracy: 1.0000\n",
      "Epoch 79/100\n",
      "22/22 [==============================] - 0s 11ms/step - loss: 2.2839e-10 - accuracy: 1.0000\n",
      "Epoch 80/100\n",
      "22/22 [==============================] - 0s 11ms/step - loss: 3.8932e-10 - accuracy: 1.0000\n",
      "Epoch 81/100\n",
      "22/22 [==============================] - 0s 11ms/step - loss: 2.4096e-10 - accuracy: 1.0000\n",
      "Epoch 82/100\n",
      "22/22 [==============================] - 0s 11ms/step - loss: 4.0378e-10 - accuracy: 1.0000\n",
      "Epoch 83/100\n",
      "22/22 [==============================] - 0s 11ms/step - loss: 2.7029e-10 - accuracy: 1.0000\n",
      "Epoch 84/100\n",
      "22/22 [==============================] - 0s 11ms/step - loss: 1.5434e-10 - accuracy: 1.0000\n",
      "Epoch 85/100\n",
      "22/22 [==============================] - 0s 11ms/step - loss: 3.6009e-10 - accuracy: 1.0000\n",
      "Epoch 86/100\n",
      "22/22 [==============================] - 0s 11ms/step - loss: 3.6569e-10 - accuracy: 1.0000\n",
      "Epoch 87/100\n",
      "22/22 [==============================] - 0s 11ms/step - loss: 2.4904e-10 - accuracy: 1.0000\n",
      "Epoch 88/100\n",
      "22/22 [==============================] - 0s 11ms/step - loss: 2.2601e-10 - accuracy: 1.0000\n",
      "Epoch 89/100\n",
      "22/22 [==============================] - 0s 11ms/step - loss: 1.3754e-10 - accuracy: 1.0000\n",
      "Epoch 90/100\n",
      "22/22 [==============================] - 0s 11ms/step - loss: 1.5076e-10 - accuracy: 1.0000\n",
      "Epoch 91/100\n",
      "22/22 [==============================] - 0s 11ms/step - loss: 2.9579e-10 - accuracy: 1.0000\n",
      "Epoch 92/100\n",
      "22/22 [==============================] - 0s 11ms/step - loss: 2.5703e-10 - accuracy: 1.0000\n",
      "Epoch 93/100\n",
      "22/22 [==============================] - 0s 11ms/step - loss: 2.0180e-10 - accuracy: 1.0000\n",
      "Epoch 94/100\n",
      "22/22 [==============================] - 0s 10ms/step - loss: 1.2880e-10 - accuracy: 1.0000\n",
      "Epoch 95/100\n",
      "22/22 [==============================] - 0s 11ms/step - loss: 3.4368e-10 - accuracy: 1.0000\n",
      "Epoch 96/100\n",
      "22/22 [==============================] - 0s 13ms/step - loss: 2.9384e-10 - accuracy: 1.0000\n",
      "Epoch 97/100\n",
      "22/22 [==============================] - 0s 11ms/step - loss: 3.2903e-10 - accuracy: 1.0000\n",
      "Epoch 98/100\n",
      "22/22 [==============================] - 0s 12ms/step - loss: 2.0229e-10 - accuracy: 1.0000\n",
      "Epoch 99/100\n",
      "22/22 [==============================] - 0s 12ms/step - loss: 1.5489e-10 - accuracy: 1.0000\n",
      "Epoch 100/100\n",
      "22/22 [==============================] - 0s 11ms/step - loss: 1.7846e-10 - accuracy: 1.0000\n"
     ]
    },
    {
     "data": {
      "text/plain": [
       "<keras.callbacks.History at 0x12328800d90>"
      ]
     },
     "execution_count": 25,
     "metadata": {},
     "output_type": "execute_result"
    }
   ],
   "source": [
    "nn.compile(loss=\"binary_crossentropy\",metrics=\"accuracy\")\n",
    "nn.fit(xtrain,ytrain,epochs=100)"
   ]
  },
  {
   "cell_type": "code",
   "execution_count": 26,
   "id": "b921b798",
   "metadata": {},
   "outputs": [],
   "source": [
    "S = []\n",
    "for i in nn.predict(xtest):\n",
    "    if(i[0] < 0.5):\n",
    "        S.append(0)\n",
    "    else:\n",
    "        S.append(1)"
   ]
  },
  {
   "cell_type": "markdown",
   "id": "1b1c77f9",
   "metadata": {},
   "source": [
    "# Check Accuracy"
   ]
  },
  {
   "cell_type": "code",
   "execution_count": 27,
   "id": "a587152e",
   "metadata": {},
   "outputs": [
    {
     "data": {
      "text/plain": [
       "0.7933333333333333"
      ]
     },
     "execution_count": 27,
     "metadata": {},
     "output_type": "execute_result"
    }
   ],
   "source": [
    "from sklearn.metrics import accuracy_score\n",
    "accuracy_score(ytest,S)"
   ]
  },
  {
   "cell_type": "markdown",
   "id": "ede5d2c4",
   "metadata": {},
   "source": [
    "# live Predication"
   ]
  },
  {
   "cell_type": "code",
   "execution_count": 28,
   "id": "826a6bf3",
   "metadata": {},
   "outputs": [],
   "source": [
    "# just type in your message and run\n",
    "your_review = 'food is good'\n",
    "your_review = cv.transform([your_review.upper()]).toarray()\n",
    "prediction = []\n",
    "for i in nn.predict(your_review):\n",
    "    if(i<0.5):\n",
    "        prediction.append(0)\n",
    "    else:\n",
    "        prediction.append(1)"
   ]
  },
  {
   "cell_type": "code",
   "execution_count": 29,
   "id": "576a11bf",
   "metadata": {},
   "outputs": [
    {
     "data": {
      "text/plain": [
       "1"
      ]
     },
     "execution_count": 29,
     "metadata": {},
     "output_type": "execute_result"
    }
   ],
   "source": [
    "prediction[0]"
   ]
  },
  {
   "cell_type": "code",
   "execution_count": 43,
   "id": "e6b431dd",
   "metadata": {},
   "outputs": [],
   "source": [
    "your_review = 'food is too  hot'\n",
    "your_review = cv.transform([your_review.upper()]).toarray()\n",
    "predication = []\n",
    "for i in nn.predict(your_review):\n",
    "    if(i<0.5):\n",
    "        prediction.append(0)\n",
    "    else:\n",
    "        prediction.append(1)"
   ]
  },
  {
   "cell_type": "code",
   "execution_count": 44,
   "id": "139c3889",
   "metadata": {},
   "outputs": [
    {
     "data": {
      "text/plain": [
       "0"
      ]
     },
     "execution_count": 44,
     "metadata": {},
     "output_type": "execute_result"
    }
   ],
   "source": [
    "prediction[0]"
   ]
  },
  {
   "cell_type": "code",
   "execution_count": 51,
   "id": "399587bc",
   "metadata": {},
   "outputs": [],
   "source": [
    "your_review = 'food is not healthy '\n",
    "your_review = cv.transform([your_review.upper()]).toarray()\n",
    "prediction = []\n",
    "for i in nn.predict(your_review):\n",
    "    if(i<0.5):\n",
    "        prediction.append(0)\n",
    "    else:\n",
    "        prediction.append(1)"
   ]
  },
  {
   "cell_type": "code",
   "execution_count": 52,
   "id": "4c373a46",
   "metadata": {},
   "outputs": [
    {
     "data": {
      "text/plain": [
       "[0]"
      ]
     },
     "execution_count": 52,
     "metadata": {},
     "output_type": "execute_result"
    }
   ],
   "source": [
    "prediction"
   ]
  },
  {
   "cell_type": "markdown",
   "id": "c9ef445e",
   "metadata": {},
   "source": [
    "# Prediction 0 means Negative review & Prediction 1 means Positive review"
   ]
  },
  {
   "cell_type": "code",
   "execution_count": null,
   "id": "14f72cf1",
   "metadata": {},
   "outputs": [],
   "source": []
  }
 ],
 "metadata": {
  "kernelspec": {
   "display_name": "Python 3",
   "language": "python",
   "name": "python3"
  },
  "language_info": {
   "codemirror_mode": {
    "name": "ipython",
    "version": 3
   },
   "file_extension": ".py",
   "mimetype": "text/x-python",
   "name": "python",
   "nbconvert_exporter": "python",
   "pygments_lexer": "ipython3",
   "version": "3.8.8"
  }
 },
 "nbformat": 4,
 "nbformat_minor": 5
}
